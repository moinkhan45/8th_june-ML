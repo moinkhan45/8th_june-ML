{
 "cells": [
  {
   "cell_type": "markdown",
   "metadata": {},
   "source": [
    "___\n",
    "# Ecommerce Purchases Exercise\n",
    "\n",
    "In this Exercise you will be given some Fake Data about some purchases done through Amazon! Just go ahead and follow the directions and try your best to answer the questions and complete the tasks. Feel free to reference the solutions. Most of the tasks can be solved in different ways. For the most part, the questions get progressively harder.\n",
    "\n",
    "Please excuse anything that doesn't make \"Real-World\" sense in the dataframe, all the data is fake and made-up.\n",
    "\n",
    "Also note that all of these questions can be answered with one line of code.\n",
    "____\n",
    "** Import pandas and read in the Ecommerce Purchases csv file and set it to a DataFrame called ecom. **"
   ]
  },
  {
   "cell_type": "code",
   "execution_count": 1,
   "metadata": {
    "tags": []
   },
   "outputs": [],
   "source": [
    "import pandas as pd"
   ]
  },
  {
   "cell_type": "code",
   "execution_count": 2,
   "metadata": {
    "tags": []
   },
   "outputs": [],
   "source": [
    "df = pd.read_csv('Ecommerce_purchases')"
   ]
  },
  {
   "cell_type": "markdown",
   "metadata": {},
   "source": [
    "**Check the head of the DataFrame.**"
   ]
  },
  {
   "cell_type": "code",
   "execution_count": 16,
   "metadata": {
    "collapsed": false,
    "jupyter": {
     "outputs_hidden": false
    }
   },
   "outputs": [
    {
     "data": {
      "text/html": [
       "<div>\n",
       "<style scoped>\n",
       "    .dataframe tbody tr th:only-of-type {\n",
       "        vertical-align: middle;\n",
       "    }\n",
       "\n",
       "    .dataframe tbody tr th {\n",
       "        vertical-align: top;\n",
       "    }\n",
       "\n",
       "    .dataframe thead th {\n",
       "        text-align: right;\n",
       "    }\n",
       "</style>\n",
       "<table border=\"1\" class=\"dataframe\">\n",
       "  <thead>\n",
       "    <tr style=\"text-align: right;\">\n",
       "      <th></th>\n",
       "      <th>Address</th>\n",
       "      <th>Lot</th>\n",
       "      <th>AM or PM</th>\n",
       "      <th>Browser Info</th>\n",
       "      <th>Company</th>\n",
       "      <th>Credit Card</th>\n",
       "      <th>CC Exp Date</th>\n",
       "      <th>CC Security Code</th>\n",
       "      <th>CC Provider</th>\n",
       "      <th>Email</th>\n",
       "      <th>Job</th>\n",
       "      <th>IP Address</th>\n",
       "      <th>Language</th>\n",
       "      <th>Purchase Price</th>\n",
       "    </tr>\n",
       "  </thead>\n",
       "  <tbody>\n",
       "    <tr>\n",
       "      <th>0</th>\n",
       "      <td>16629 Pace Camp Apt. 448\\nAlexisborough, NE 77...</td>\n",
       "      <td>46 in</td>\n",
       "      <td>PM</td>\n",
       "      <td>Opera/9.56.(X11; Linux x86_64; sl-SI) Presto/2...</td>\n",
       "      <td>Martinez-Herman</td>\n",
       "      <td>6011929061123406</td>\n",
       "      <td>02/20</td>\n",
       "      <td>900</td>\n",
       "      <td>JCB 16 digit</td>\n",
       "      <td>pdunlap@yahoo.com</td>\n",
       "      <td>Scientist, product/process development</td>\n",
       "      <td>149.146.147.205</td>\n",
       "      <td>el</td>\n",
       "      <td>98.14</td>\n",
       "    </tr>\n",
       "    <tr>\n",
       "      <th>1</th>\n",
       "      <td>9374 Jasmine Spurs Suite 508\\nSouth John, TN 8...</td>\n",
       "      <td>28 rn</td>\n",
       "      <td>PM</td>\n",
       "      <td>Opera/8.93.(Windows 98; Win 9x 4.90; en-US) Pr...</td>\n",
       "      <td>Fletcher, Richards and Whitaker</td>\n",
       "      <td>3337758169645356</td>\n",
       "      <td>11/18</td>\n",
       "      <td>561</td>\n",
       "      <td>Mastercard</td>\n",
       "      <td>anthony41@reed.com</td>\n",
       "      <td>Drilling engineer</td>\n",
       "      <td>15.160.41.51</td>\n",
       "      <td>fr</td>\n",
       "      <td>70.73</td>\n",
       "    </tr>\n",
       "    <tr>\n",
       "      <th>2</th>\n",
       "      <td>Unit 0065 Box 5052\\nDPO AP 27450</td>\n",
       "      <td>94 vE</td>\n",
       "      <td>PM</td>\n",
       "      <td>Mozilla/5.0 (compatible; MSIE 9.0; Windows NT ...</td>\n",
       "      <td>Simpson, Williams and Pham</td>\n",
       "      <td>675957666125</td>\n",
       "      <td>08/19</td>\n",
       "      <td>699</td>\n",
       "      <td>JCB 16 digit</td>\n",
       "      <td>amymiller@morales-harrison.com</td>\n",
       "      <td>Customer service manager</td>\n",
       "      <td>132.207.160.22</td>\n",
       "      <td>de</td>\n",
       "      <td>0.95</td>\n",
       "    </tr>\n",
       "    <tr>\n",
       "      <th>3</th>\n",
       "      <td>7780 Julia Fords\\nNew Stacy, WA 45798</td>\n",
       "      <td>36 vm</td>\n",
       "      <td>PM</td>\n",
       "      <td>Mozilla/5.0 (Macintosh; Intel Mac OS X 10_8_0 ...</td>\n",
       "      <td>Williams, Marshall and Buchanan</td>\n",
       "      <td>6011578504430710</td>\n",
       "      <td>02/24</td>\n",
       "      <td>384</td>\n",
       "      <td>Discover</td>\n",
       "      <td>brent16@olson-robinson.info</td>\n",
       "      <td>Drilling engineer</td>\n",
       "      <td>30.250.74.19</td>\n",
       "      <td>es</td>\n",
       "      <td>78.04</td>\n",
       "    </tr>\n",
       "    <tr>\n",
       "      <th>4</th>\n",
       "      <td>23012 Munoz Drive Suite 337\\nNew Cynthia, TX 5...</td>\n",
       "      <td>20 IE</td>\n",
       "      <td>AM</td>\n",
       "      <td>Opera/9.58.(X11; Linux x86_64; it-IT) Presto/2...</td>\n",
       "      <td>Brown, Watson and Andrews</td>\n",
       "      <td>6011456623207998</td>\n",
       "      <td>10/25</td>\n",
       "      <td>678</td>\n",
       "      <td>Diners Club / Carte Blanche</td>\n",
       "      <td>christopherwright@gmail.com</td>\n",
       "      <td>Fine artist</td>\n",
       "      <td>24.140.33.94</td>\n",
       "      <td>es</td>\n",
       "      <td>77.82</td>\n",
       "    </tr>\n",
       "  </tbody>\n",
       "</table>\n",
       "</div>"
      ],
      "text/plain": [
       "                                             Address    Lot AM or PM  \\\n",
       "0  16629 Pace Camp Apt. 448\\nAlexisborough, NE 77...  46 in       PM   \n",
       "1  9374 Jasmine Spurs Suite 508\\nSouth John, TN 8...  28 rn       PM   \n",
       "2                   Unit 0065 Box 5052\\nDPO AP 27450  94 vE       PM   \n",
       "3              7780 Julia Fords\\nNew Stacy, WA 45798  36 vm       PM   \n",
       "4  23012 Munoz Drive Suite 337\\nNew Cynthia, TX 5...  20 IE       AM   \n",
       "\n",
       "                                        Browser Info  \\\n",
       "0  Opera/9.56.(X11; Linux x86_64; sl-SI) Presto/2...   \n",
       "1  Opera/8.93.(Windows 98; Win 9x 4.90; en-US) Pr...   \n",
       "2  Mozilla/5.0 (compatible; MSIE 9.0; Windows NT ...   \n",
       "3  Mozilla/5.0 (Macintosh; Intel Mac OS X 10_8_0 ...   \n",
       "4  Opera/9.58.(X11; Linux x86_64; it-IT) Presto/2...   \n",
       "\n",
       "                           Company       Credit Card CC Exp Date  \\\n",
       "0                  Martinez-Herman  6011929061123406       02/20   \n",
       "1  Fletcher, Richards and Whitaker  3337758169645356       11/18   \n",
       "2       Simpson, Williams and Pham      675957666125       08/19   \n",
       "3  Williams, Marshall and Buchanan  6011578504430710       02/24   \n",
       "4        Brown, Watson and Andrews  6011456623207998       10/25   \n",
       "\n",
       "   CC Security Code                  CC Provider  \\\n",
       "0               900                 JCB 16 digit   \n",
       "1               561                   Mastercard   \n",
       "2               699                 JCB 16 digit   \n",
       "3               384                     Discover   \n",
       "4               678  Diners Club / Carte Blanche   \n",
       "\n",
       "                            Email                                     Job  \\\n",
       "0               pdunlap@yahoo.com  Scientist, product/process development   \n",
       "1              anthony41@reed.com                       Drilling engineer   \n",
       "2  amymiller@morales-harrison.com                Customer service manager   \n",
       "3     brent16@olson-robinson.info                       Drilling engineer   \n",
       "4     christopherwright@gmail.com                             Fine artist   \n",
       "\n",
       "        IP Address Language  Purchase Price  \n",
       "0  149.146.147.205       el           98.14  \n",
       "1     15.160.41.51       fr           70.73  \n",
       "2   132.207.160.22       de            0.95  \n",
       "3     30.250.74.19       es           78.04  \n",
       "4     24.140.33.94       es           77.82  "
      ]
     },
     "execution_count": 16,
     "metadata": {},
     "output_type": "execute_result"
    }
   ],
   "source": [
    "df.head()"
   ]
  },
  {
   "cell_type": "markdown",
   "metadata": {},
   "source": [
    "** How many rows and columns are there? **"
   ]
  },
  {
   "cell_type": "code",
   "execution_count": 3,
   "metadata": {
    "collapsed": false,
    "jupyter": {
     "outputs_hidden": false
    }
   },
   "outputs": [
    {
     "name": "stdout",
     "output_type": "stream",
     "text": [
      "<class 'pandas.core.frame.DataFrame'>\n",
      "RangeIndex: 10000 entries, 0 to 9999\n",
      "Data columns (total 14 columns):\n",
      " #   Column            Non-Null Count  Dtype  \n",
      "---  ------            --------------  -----  \n",
      " 0   Address           10000 non-null  object \n",
      " 1   Lot               10000 non-null  object \n",
      " 2   AM or PM          10000 non-null  object \n",
      " 3   Browser Info      10000 non-null  object \n",
      " 4   Company           10000 non-null  object \n",
      " 5   Credit Card       10000 non-null  int64  \n",
      " 6   CC Exp Date       10000 non-null  object \n",
      " 7   CC Security Code  10000 non-null  int64  \n",
      " 8   CC Provider       10000 non-null  object \n",
      " 9   Email             10000 non-null  object \n",
      " 10  Job               10000 non-null  object \n",
      " 11  IP Address        10000 non-null  object \n",
      " 12  Language          10000 non-null  object \n",
      " 13  Purchase Price    10000 non-null  float64\n",
      "dtypes: float64(1), int64(2), object(11)\n",
      "memory usage: 1.1+ MB\n"
     ]
    }
   ],
   "source": [
    "df.info()"
   ]
  },
  {
   "cell_type": "markdown",
   "metadata": {},
   "source": [
    "** What is the average Purchase Price? **"
   ]
  },
  {
   "cell_type": "code",
   "execution_count": 4,
   "metadata": {
    "collapsed": false,
    "jupyter": {
     "outputs_hidden": false
    }
   },
   "outputs": [
    {
     "data": {
      "text/plain": [
       "50.34730200000025"
      ]
     },
     "execution_count": 4,
     "metadata": {},
     "output_type": "execute_result"
    }
   ],
   "source": [
    "df['Purchase Price'].mean()"
   ]
  },
  {
   "cell_type": "markdown",
   "metadata": {},
   "source": [
    "** What were the highest and lowest purchase prices? **"
   ]
  },
  {
   "cell_type": "code",
   "execution_count": 5,
   "metadata": {
    "collapsed": false,
    "jupyter": {
     "outputs_hidden": false
    }
   },
   "outputs": [
    {
     "data": {
      "text/plain": [
       "99.99"
      ]
     },
     "execution_count": 5,
     "metadata": {},
     "output_type": "execute_result"
    }
   ],
   "source": [
    "df['Purchase Price'].max()"
   ]
  },
  {
   "cell_type": "code",
   "execution_count": 6,
   "metadata": {
    "collapsed": false,
    "jupyter": {
     "outputs_hidden": false
    }
   },
   "outputs": [
    {
     "data": {
      "text/plain": [
       "0.0"
      ]
     },
     "execution_count": 6,
     "metadata": {},
     "output_type": "execute_result"
    }
   ],
   "source": [
    "df['Purchase Price'].min()"
   ]
  },
  {
   "cell_type": "markdown",
   "metadata": {},
   "source": [
    "** How many people have English 'en' as their Language of choice on the website? **"
   ]
  },
  {
   "cell_type": "code",
   "execution_count": 7,
   "metadata": {
    "collapsed": false,
    "jupyter": {
     "outputs_hidden": false
    }
   },
   "outputs": [
    {
     "data": {
      "text/plain": [
       "Address             1098\n",
       "Lot                 1098\n",
       "AM or PM            1098\n",
       "Browser Info        1098\n",
       "Company             1098\n",
       "Credit Card         1098\n",
       "CC Exp Date         1098\n",
       "CC Security Code    1098\n",
       "CC Provider         1098\n",
       "Email               1098\n",
       "Job                 1098\n",
       "IP Address          1098\n",
       "Language            1098\n",
       "Purchase Price      1098\n",
       "dtype: int64"
      ]
     },
     "execution_count": 7,
     "metadata": {},
     "output_type": "execute_result"
    }
   ],
   "source": [
    "df[df['Language']=='en'].count()"
   ]
  },
  {
   "cell_type": "markdown",
   "metadata": {},
   "source": [
    "** How many people have the job title of \"Lawyer\" ? **\n"
   ]
  },
  {
   "cell_type": "code",
   "execution_count": 8,
   "metadata": {
    "collapsed": false,
    "jupyter": {
     "outputs_hidden": false
    }
   },
   "outputs": [
    {
     "name": "stdout",
     "output_type": "stream",
     "text": [
      "<class 'pandas.core.frame.DataFrame'>\n",
      "Int64Index: 30 entries, 470 to 9979\n",
      "Data columns (total 14 columns):\n",
      " #   Column            Non-Null Count  Dtype  \n",
      "---  ------            --------------  -----  \n",
      " 0   Address           30 non-null     object \n",
      " 1   Lot               30 non-null     object \n",
      " 2   AM or PM          30 non-null     object \n",
      " 3   Browser Info      30 non-null     object \n",
      " 4   Company           30 non-null     object \n",
      " 5   Credit Card       30 non-null     int64  \n",
      " 6   CC Exp Date       30 non-null     object \n",
      " 7   CC Security Code  30 non-null     int64  \n",
      " 8   CC Provider       30 non-null     object \n",
      " 9   Email             30 non-null     object \n",
      " 10  Job               30 non-null     object \n",
      " 11  IP Address        30 non-null     object \n",
      " 12  Language          30 non-null     object \n",
      " 13  Purchase Price    30 non-null     float64\n",
      "dtypes: float64(1), int64(2), object(11)\n",
      "memory usage: 3.5+ KB\n"
     ]
    }
   ],
   "source": [
    "df[df['Job']=='Lawyer'].info()"
   ]
  },
  {
   "cell_type": "markdown",
   "metadata": {},
   "source": [
    "** How many people made the purchase during the AM and how many people made the purchase during PM ? **\n",
    "\n",
    "**(Hint: Check out [value_counts()](http://pandas.pydata.org/pandas-docs/stable/generated/pandas.Series.value_counts.html) ) **"
   ]
  },
  {
   "cell_type": "code",
   "execution_count": 9,
   "metadata": {
    "collapsed": false,
    "jupyter": {
     "outputs_hidden": false
    }
   },
   "outputs": [
    {
     "data": {
      "text/plain": [
       "PM    5068\n",
       "AM    4932\n",
       "Name: AM or PM, dtype: int64"
      ]
     },
     "execution_count": 9,
     "metadata": {},
     "output_type": "execute_result"
    }
   ],
   "source": [
    "df['AM or PM'].value_counts()"
   ]
  },
  {
   "cell_type": "markdown",
   "metadata": {},
   "source": [
    "** What are the 5 most common Job Titles? **"
   ]
  },
  {
   "cell_type": "code",
   "execution_count": 10,
   "metadata": {
    "collapsed": false,
    "jupyter": {
     "outputs_hidden": false
    }
   },
   "outputs": [
    {
     "data": {
      "text/plain": [
       "Interior and spatial designer        31\n",
       "Lawyer                               30\n",
       "Social researcher                    28\n",
       "Research officer, political party    27\n",
       "Purchasing manager                   27\n",
       "Name: Job, dtype: int64"
      ]
     },
     "execution_count": 10,
     "metadata": {},
     "output_type": "execute_result"
    }
   ],
   "source": [
    "df['Job'].value_counts().head()"
   ]
  },
  {
   "cell_type": "markdown",
   "metadata": {},
   "source": [
    "** Someone made a purchase that came from Lot: \"90 WT\" , what was the Purchase Price for this transaction? **"
   ]
  },
  {
   "cell_type": "code",
   "execution_count": 11,
   "metadata": {
    "collapsed": false,
    "jupyter": {
     "outputs_hidden": false
    }
   },
   "outputs": [
    {
     "data": {
      "text/plain": [
       "513    75.1\n",
       "Name: Purchase Price, dtype: float64"
      ]
     },
     "execution_count": 11,
     "metadata": {},
     "output_type": "execute_result"
    }
   ],
   "source": [
    "df[df['Lot']=='90 WT']['Purchase Price']"
   ]
  },
  {
   "cell_type": "markdown",
   "metadata": {},
   "source": [
    "** What is the email of the person with the following Credit Card Number: 4926535242672853 **"
   ]
  },
  {
   "cell_type": "code",
   "execution_count": 12,
   "metadata": {
    "collapsed": false,
    "jupyter": {
     "outputs_hidden": false
    }
   },
   "outputs": [
    {
     "data": {
      "text/plain": [
       "1234    bondellen@williams-garza.com\n",
       "Name: Email, dtype: object"
      ]
     },
     "execution_count": 12,
     "metadata": {},
     "output_type": "execute_result"
    }
   ],
   "source": [
    "df[df['Credit Card']==4926535242672853]['Email']"
   ]
  },
  {
   "cell_type": "markdown",
   "metadata": {},
   "source": [
    "** How many people have American Express as their Credit Card Provider *and* made a purchase above $95 ?**"
   ]
  },
  {
   "cell_type": "code",
   "execution_count": 13,
   "metadata": {
    "collapsed": false,
    "jupyter": {
     "outputs_hidden": false
    }
   },
   "outputs": [
    {
     "data": {
      "text/plain": [
       "<bound method DataFrame.count of                                                 Address    Lot AM or PM  \\\n",
       "9       3795 Dawson Extensions\\nLake Tinafort, ID 88739  15 Ug       AM   \n",
       "280   81060 Dustin Causeway Apt. 503\\nPort Danielche...  80 zh       PM   \n",
       "372              359 Stanley Coves\\nSalasfort, SD 59457  75 Ub       PM   \n",
       "677       4855 Peter Bridge\\nJohnsonberg, PA 90599-0009  62 Nx       AM   \n",
       "766             386 Alisha Unions\\nSteelebury, ND 19782  28 pJ       PM   \n",
       "1225    916 Amanda Heights\\nNew Johnland, CA 52112-8572  09 vg       PM   \n",
       "1381  79284 Lisa Mews Suite 069\\nKellyborough, CT 71...  45 MR       PM   \n",
       "1385  67796 James Keys Suite 656\\nSouth Katieshire, ...  06 ia       PM   \n",
       "1568       76108 Barker Manors\\nEast Amy, PW 49544-5921  82 Qw       AM   \n",
       "1727  478 Anita Hill Apt. 766\\nAverymouth, FM 50629-...  94 qM       AM   \n",
       "2146           557 Barton Harbor\\nFuentesport, VI 29961  96 MV       AM   \n",
       "2264   040 Ingram Way Suite 602\\nEast Matthew, AR 67341  52 WA       AM   \n",
       "2267  216 Olivia Court Apt. 439\\nTonyshire, IN 19159...  11 za       PM   \n",
       "2642  899 Williams Prairie Suite 234\\nEast Hunterbur...  46 hb       PM   \n",
       "2828  20135 Miller Green Apt. 763\\nGarciaville, KY 6...  79 El       PM   \n",
       "3291             58939 Reese Cove\\nSouth Ross, MA 54531  50 cD       AM   \n",
       "3349  1984 Christopher Turnpike Suite 904\\nRichardbu...  30 xs       AM   \n",
       "3619  03233 Angela Road Apt. 808\\nEast Jilliantown, ...  41 nH       PM   \n",
       "4071  8161 Craig Passage Apt. 939\\nPort Emilystad, R...  45 ab       AM   \n",
       "4569  88284 Austin Summit Apt. 805\\nKellerside, WY 6...  03 WL       AM   \n",
       "5385                           USNS Smith\\nFPO AA 37829  80 BX       AM   \n",
       "5655       38674 Mckay Vista\\nWilsonbury, MO 55611-8663  95 aB       PM   \n",
       "5692                   PSC 8264, Box 8124\\nAPO AE 19700  97 sG       PM   \n",
       "5814              Unit 5232 Box 4650\\nDPO AE 28335-7543  71 So       PM   \n",
       "5875      8256 Anderson Forest\\nFordbury, PA 81027-8980  17 Oe       AM   \n",
       "5895  87003 Jason Tunnel Apt. 216\\nDariusville, MS 8...  72 gL       AM   \n",
       "6026                   Unit 4385 Box 1428\\nDPO AE 04110  58 Ex       AM   \n",
       "6524  344 Rivera Shore Apt. 224\\nJoshuaborough, ND 3...  44 SM       AM   \n",
       "7239        81561 Stein Rue\\nEast Melissaport, MA 64959  45 sZ       PM   \n",
       "7381  40804 Belinda Roads Apt. 186\\nWest Nicoleberg,...  30 GH       AM   \n",
       "7416    1082 Jason Alley Suite 707\\nWhitestad, SC 97805  08 bm       PM   \n",
       "7514    678 David Manor Suite 323\\nBobbymouth, PW 59942  91 NA       AM   \n",
       "8233  327 Hamilton Hollow\\nEast Nicolechester, RI 65868  53 dE       PM   \n",
       "8381  274 Wallace Pine Apt. 189\\nMartinberg, WY 7548...  32 rI       PM   \n",
       "8408                   Unit 4967 Box 4574\\nDPO AP 11412  05 zs       PM   \n",
       "8434  474 Gonzalez Meadow Suite 581\\nEast Vincent, M...  14 St       PM   \n",
       "8817          3658 Campos Lodge\\nChambersfurt, MH 86260  24 ej       PM   \n",
       "9168  18782 Hall Row Suite 810\\nSouth Wesleyville, I...  15 QU       PM   \n",
       "9856  058 Miranda Locks Suite 792\\nPort Davidstad, P...  73 IW       PM   \n",
       "\n",
       "                                           Browser Info  \\\n",
       "9     Mozilla/5.0 (X11; Linux i686; rv:1.9.7.20) Gec...   \n",
       "280   Mozilla/5.0 (Windows NT 5.01) AppleWebKit/5362...   \n",
       "372   Opera/8.42.(X11; Linux x86_64; en-US) Presto/2...   \n",
       "677   Opera/9.49.(Windows 98; Win 9x 4.90; en-US) Pr...   \n",
       "766   Opera/8.47.(X11; Linux x86_64; sl-SI) Presto/2...   \n",
       "1225  Mozilla/5.0 (X11; Linux i686; rv:1.9.7.20) Gec...   \n",
       "1381  Mozilla/5.0 (Macintosh; PPC Mac OS X 10_5_5; r...   \n",
       "1385  Mozilla/5.0 (Windows NT 5.1) AppleWebKit/5330 ...   \n",
       "1568  Mozilla/5.0 (X11; Linux x86_64) AppleWebKit/53...   \n",
       "1727  Mozilla/5.0 (X11; Linux x86_64) AppleWebKit/53...   \n",
       "2146  Mozilla/5.0 (compatible; MSIE 6.0; Windows 98;...   \n",
       "2264  Mozilla/5.0 (Windows NT 6.0) AppleWebKit/5341 ...   \n",
       "2267  Mozilla/5.0 (Macintosh; PPC Mac OS X 10_6_4; r...   \n",
       "2642  Mozilla/5.0 (compatible; MSIE 7.0; Windows NT ...   \n",
       "2828  Mozilla/5.0 (Windows; U; Windows CE) AppleWebK...   \n",
       "3291  Mozilla/5.0 (compatible; MSIE 9.0; Windows 95;...   \n",
       "3349  Mozilla/5.0 (X11; Linux x86_64; rv:1.9.7.20) G...   \n",
       "3619  Opera/9.53.(Windows 95; en-US) Presto/2.9.175 ...   \n",
       "4071  Mozilla/5.0 (Windows; U; Windows NT 6.1) Apple...   \n",
       "4569  Mozilla/5.0 (Macintosh; U; PPC Mac OS X 10_5_5...   \n",
       "5385  Opera/9.56.(X11; Linux x86_64; en-US) Presto/2...   \n",
       "5655  Mozilla/5.0 (X11; Linux i686) AppleWebKit/5331...   \n",
       "5692  Mozilla/5.0 (iPod; U; CPU iPhone OS 3_3 like M...   \n",
       "5814  Mozilla/5.0 (X11; Linux i686) AppleWebKit/5342...   \n",
       "5875  Mozilla/5.0 (compatible; MSIE 9.0; Windows NT ...   \n",
       "5895  Mozilla/5.0 (compatible; MSIE 9.0; Windows NT ...   \n",
       "6026  Mozilla/5.0 (Windows; U; Windows NT 5.01) Appl...   \n",
       "6524  Opera/8.62.(X11; Linux i686; en-US) Presto/2.9...   \n",
       "7239  Mozilla/5.0 (X11; Linux i686) AppleWebKit/5310...   \n",
       "7381  Opera/9.32.(Windows NT 4.0; it-IT) Presto/2.9....   \n",
       "7416  Mozilla/5.0 (Windows NT 5.1; sl-SI; rv:1.9.2.2...   \n",
       "7514  Mozilla/5.0 (compatible; MSIE 8.0; Windows 98;...   \n",
       "8233  Mozilla/5.0 (Macintosh; U; PPC Mac OS X 10_5_3...   \n",
       "8381  Mozilla/5.0 (Windows; U; Windows 98; Win 9x 4....   \n",
       "8408  Mozilla/5.0 (compatible; MSIE 5.0; Windows 98;...   \n",
       "8434  Mozilla/5.0 (compatible; MSIE 6.0; Windows NT ...   \n",
       "8817  Mozilla/5.0 (compatible; MSIE 5.0; Windows NT ...   \n",
       "9168  Opera/9.57.(X11; Linux i686; it-IT) Presto/2.9...   \n",
       "9856  Mozilla/5.0 (Windows NT 5.0) AppleWebKit/5360 ...   \n",
       "\n",
       "                            Company       Credit Card CC Exp Date  \\\n",
       "9      Rivera, Buchanan and Ramirez     4396283918371       01/17   \n",
       "280                        Clay PLC   377737470673585       10/17   \n",
       "372                  Davis-Lawrence   371995567939253       02/26   \n",
       "677                  Jones and Sons  4960556611626434       07/26   \n",
       "766                     Proctor PLC    30325623350308       04/24   \n",
       "1225         Clark, Ross and Travis   371229555854245       10/21   \n",
       "1381                  Randall-Cohen     4855262855037       05/17   \n",
       "1385      Gonzalez, Gross and Allen    30407332938506       12/20   \n",
       "1568       Nguyen, Branch and Wiley  5142451859832464       04/21   \n",
       "1727                  Owen and Sons    30242757909967       11/19   \n",
       "2146                    Flores-Cook  3337255995040373       04/19   \n",
       "2264       Baker, Simmons and Pitts  3096946456575623       11/22   \n",
       "2267                      Olson Inc  5388757330269354       02/17   \n",
       "2642                       Webb Inc  3096797127305092       05/17   \n",
       "2828         Zavala, Cox and Parker  5173968976288215       11/22   \n",
       "3291        Chang, Davis and Snyder   349464844934636       11/23   \n",
       "3349                Martin-Mitchell  3096398727024637       03/19   \n",
       "3619        Silva, Kim and Martinez  4807251488895729       10/21   \n",
       "4071                Wilson-Robinson  5506767693718324       08/23   \n",
       "4569     Fisher, Thompson and Lynch  3088726880694574       12/19   \n",
       "5385               Patterson-Miller  4411786056713950       12/22   \n",
       "5655                  Watson-Bailey  3096820981608615       05/20   \n",
       "5692                      Moore Inc  6011499701167585       10/20   \n",
       "5814                     Garcia LLC    30346960979608       07/17   \n",
       "5875     Kelly, Peterson and Oliver  5173335726386576       02/18   \n",
       "5895          Reyes, Fox and Wilson   180010957603245       09/24   \n",
       "6026                      White Inc  3112975578138572       09/17   \n",
       "6524     Lawson, Moyer and Valencia   379348662534664       06/17   \n",
       "7239                      Smith Ltd      503825682670       07/19   \n",
       "7381                    Blair-Keith   180089858618619       05/19   \n",
       "7416  Carroll, Harrison and Escobar  3088903707645291       12/18   \n",
       "7514           Glenn, Lowe and Shah      676298897445       04/26   \n",
       "8233      Keller, Carter and Garcia    30299608736429       08/22   \n",
       "8381                   Kelly-Newman  5527104423944290       05/18   \n",
       "8408                  Acevedo-Smith  3337721305744244       01/19   \n",
       "8434                Miller and Sons   180059754370698       07/24   \n",
       "8817                   Fisher-Jones   210046575239925       09/25   \n",
       "9168                     Butler PLC  5412611065926441       05/25   \n",
       "9856                  Olson-Navarro  6011037226242937       03/18   \n",
       "\n",
       "      CC Security Code       CC Provider  \\\n",
       "9                  931  American Express   \n",
       "280                349  American Express   \n",
       "372               1877  American Express   \n",
       "677               9255  American Express   \n",
       "766                772  American Express   \n",
       "1225               366  American Express   \n",
       "1381               518  American Express   \n",
       "1385               597  American Express   \n",
       "1568               785  American Express   \n",
       "1727              7403  American Express   \n",
       "2146                28  American Express   \n",
       "2264                56  American Express   \n",
       "2267               738  American Express   \n",
       "2642               418  American Express   \n",
       "2828               125  American Express   \n",
       "3291               103  American Express   \n",
       "3349               439  American Express   \n",
       "3619               948  American Express   \n",
       "4071                18  American Express   \n",
       "4569               159  American Express   \n",
       "5385               452  American Express   \n",
       "5655               259  American Express   \n",
       "5692               845  American Express   \n",
       "5814               402  American Express   \n",
       "5875               954  American Express   \n",
       "5895               929  American Express   \n",
       "6026                 7  American Express   \n",
       "6524               809  American Express   \n",
       "7239               852  American Express   \n",
       "7381              2107  American Express   \n",
       "7416               220  American Express   \n",
       "7514                61  American Express   \n",
       "8233               786  American Express   \n",
       "8381               711  American Express   \n",
       "8408               738  American Express   \n",
       "8434               812  American Express   \n",
       "8817               860  American Express   \n",
       "9168                49  American Express   \n",
       "9856               757  American Express   \n",
       "\n",
       "                                       Email  \\\n",
       "9                   qcoleman@hunt-huerta.com   \n",
       "280                        hfarley@hicks.com   \n",
       "372                      amberhull@jones.net   \n",
       "677                 evanskayla@fernandez.com   \n",
       "766                 robertsonjulia@gmail.com   \n",
       "1225                lawrencecarter@kelly.com   \n",
       "1381  maldonadomichael@martinez-delgado.info   \n",
       "1385                    vbrown@daugherty.com   \n",
       "1568                  johnsonjulie@yahoo.com   \n",
       "1727          sharpmelanie@smith-johnson.com   \n",
       "2146           jessica94@mosley-buchanan.com   \n",
       "2264                    holtamanda@gmail.com   \n",
       "2267          burkestephanie@lee-cameron.com   \n",
       "2642                  reevesmanuel@gmail.com   \n",
       "2828                villarrealdavid@gray.com   \n",
       "3291               stephanieacosta@yahoo.com   \n",
       "3349                 hgross@mccoy-mckay.info   \n",
       "3619                  jonesjesse@castro.info   \n",
       "4071                    hhenderson@yahoo.com   \n",
       "4569                        amy00@patton.com   \n",
       "5385                      ijones@hotmail.com   \n",
       "5655                   timothy84@hotmail.com   \n",
       "5692                     kellypace@yahoo.com   \n",
       "5814                         jrice@gmail.com   \n",
       "5875               hernandezandrea@yahoo.com   \n",
       "5895               duncanmichael@hotmail.com   \n",
       "6026                       scott35@yahoo.com   \n",
       "6524                   olsonjohn@hotmail.com   \n",
       "7239                beckerjennifer@gmail.com   \n",
       "7381                 woodsmatthew@walton.org   \n",
       "7416                        gcruz@butler.com   \n",
       "7514                     tammy75@cameron.com   \n",
       "8233                   elliskaren@taylor.com   \n",
       "8381                    joneswilliam@cox.net   \n",
       "8408                  nunezjames@hotmail.com   \n",
       "8434                    vtaylor@hatfield.com   \n",
       "8817                   jessica35@hotmail.com   \n",
       "9168                    tammyblair@yahoo.com   \n",
       "9856               brendastewart@dalton.info   \n",
       "\n",
       "                                               Job       IP Address Language  \\\n",
       "9                               Forensic scientist    236.198.199.8       zh   \n",
       "280                                     Ergonomist    134.52.148.32       de   \n",
       "372               Training and development officer    198.98.34.250       pt   \n",
       "677                       Plant breeder/geneticist   235.97.240.112       el   \n",
       "766                                 Therapist, art    146.208.30.83       es   \n",
       "1225                                        Artist     88.49.59.205       pt   \n",
       "1381                    Geophysical data processor    50.40.147.204       it   \n",
       "1385                    Geophysical data processor  152.133.246.191       zh   \n",
       "1568                      Insurance claims handler  175.248.232.126       es   \n",
       "1727   Psychologist, prison and probation services    126.47.196.22       ru   \n",
       "2146                Armed forces technical officer     35.97.189.19       es   \n",
       "2264                                 Archaeologist   185.14.106.115       es   \n",
       "2267                         Management consultant    20.140.16.225       it   \n",
       "2642                    Engineer, maintenance (IT)  169.132.152.152       el   \n",
       "2828               Chartered management accountant     76.75.229.58       el   \n",
       "3291                                    IT trainer  124.247.101.106       it   \n",
       "3349                           Structural engineer   167.172.139.33       pt   \n",
       "3619                  Garment/textile technologist       87.66.16.4       en   \n",
       "4071                      Customer service manager    119.74.76.168       es   \n",
       "4569                                       Actuary     207.18.223.8       el   \n",
       "5385                            Field seismologist  251.254.250.100       el   \n",
       "5655  Production designer, theatre/television/film  235.149.102.129       es   \n",
       "5692                                    Aid worker    155.121.60.58       pt   \n",
       "5814                                     Solicitor   165.48.161.188       zh   \n",
       "5875                  Community development worker   212.168.246.27       ru   \n",
       "5895                               Event organiser    231.34.199.32       it   \n",
       "6026                          Operations geologist    217.6.202.138       en   \n",
       "6524                       Teacher, primary school      45.1.104.55       zh   \n",
       "7239                              Engineer, energy   50.107.135.203       fr   \n",
       "7381                              Fashion designer    223.87.136.82       es   \n",
       "7416                           Broadcast presenter    193.90.91.152       pt   \n",
       "7514                           Automotive engineer   37.241.180.247       ru   \n",
       "8233                             Chemical engineer   131.34.220.138       en   \n",
       "8381                      Surveyor, land/geomatics   29.211.114.191       ru   \n",
       "8408                  Designer, exhibition/display    91.55.254.144       es   \n",
       "8434                Armed forces technical officer     26.69.128.20       it   \n",
       "8817                            Forensic scientist    18.74.143.113       fr   \n",
       "9168                      Computer games developer      2.84.51.133       en   \n",
       "9856                                 Site engineer    96.79.250.154       de   \n",
       "\n",
       "      Purchase Price  \n",
       "9              95.63  \n",
       "280            99.13  \n",
       "372            99.08  \n",
       "677            98.97  \n",
       "766            96.66  \n",
       "1225           96.55  \n",
       "1381           96.11  \n",
       "1385           98.89  \n",
       "1568           97.04  \n",
       "1727           95.58  \n",
       "2146           98.01  \n",
       "2264           99.85  \n",
       "2267           97.63  \n",
       "2642           96.08  \n",
       "2828           96.12  \n",
       "3291           95.94  \n",
       "3349           95.46  \n",
       "3619           99.69  \n",
       "4071           96.49  \n",
       "4569           97.38  \n",
       "5385           96.13  \n",
       "5655           98.28  \n",
       "5692           98.66  \n",
       "5814           96.73  \n",
       "5875           95.07  \n",
       "5895           97.38  \n",
       "6026           95.89  \n",
       "6524           97.87  \n",
       "7239           97.32  \n",
       "7381           99.81  \n",
       "7416           96.09  \n",
       "7514           98.36  \n",
       "8233           98.63  \n",
       "8381           99.36  \n",
       "8408           98.16  \n",
       "8434           97.90  \n",
       "8817           99.16  \n",
       "9168           98.59  \n",
       "9856           99.97  >"
      ]
     },
     "execution_count": 13,
     "metadata": {},
     "output_type": "execute_result"
    }
   ],
   "source": [
    "df[(df['CC Provider']=='American Express')& (df['Purchase Price']>95)].count"
   ]
  },
  {
   "cell_type": "markdown",
   "metadata": {},
   "source": [
    "** Hard: How many people have a credit card that expires in 2025? **"
   ]
  },
  {
   "cell_type": "code",
   "execution_count": 14,
   "metadata": {
    "collapsed": false,
    "jupyter": {
     "outputs_hidden": false
    }
   },
   "outputs": [
    {
     "name": "stdout",
     "output_type": "stream",
     "text": [
      "1033\n"
     ]
    }
   ],
   "source": [
    "k=[]\n",
    "for i in range(0,len(df)):\n",
    "    t= df['CC Exp Date'][i][3:]\n",
    "    if t=='25':\n",
    "        k.append(t)\n",
    "print(len(k))"
   ]
  },
  {
   "cell_type": "markdown",
   "metadata": {},
   "source": [
    "** Hard: What are the top 5 most popular email providers/hosts (e.g. gmail.com, yahoo.com, etc...) **"
   ]
  },
  {
   "cell_type": "code",
   "execution_count": 15,
   "metadata": {
    "collapsed": false,
    "jupyter": {
     "outputs_hidden": false
    }
   },
   "outputs": [
    {
     "data": {
      "text/plain": [
       "hotmail.com     1638\n",
       "yahoo.com       1616\n",
       "gmail.com       1605\n",
       "smith.com         42\n",
       "williams.com      37\n",
       "dtype: int64"
      ]
     },
     "execution_count": 15,
     "metadata": {},
     "output_type": "execute_result"
    }
   ],
   "source": [
    "k=[]\n",
    "for i in range(0,len(df)):\n",
    "    t= df['Email'][i].split('@')\n",
    "    k.append(t[1])\n",
    "df3=pd.DataFrame(k)\n",
    "df3.value_counts().head()"
   ]
  },
  {
   "cell_type": "markdown",
   "metadata": {},
   "source": [
    "# Great Job!"
   ]
  }
 ],
 "metadata": {
  "kernelspec": {
   "display_name": "Python 3",
   "language": "python",
   "name": "python3"
  },
  "language_info": {
   "codemirror_mode": {
    "name": "ipython",
    "version": 3
   },
   "file_extension": ".py",
   "mimetype": "text/x-python",
   "name": "python",
   "nbconvert_exporter": "python",
   "pygments_lexer": "ipython3",
   "version": "3.8.8"
  }
 },
 "nbformat": 4,
 "nbformat_minor": 4
}
