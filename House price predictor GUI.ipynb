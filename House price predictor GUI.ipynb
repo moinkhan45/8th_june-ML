{
 "cells": [
  {
   "cell_type": "code",
   "execution_count": 1,
   "id": "cce85aab-4303-4646-9d86-abafd31f49bc",
   "metadata": {},
   "outputs": [],
   "source": [
    "import pandas as pd"
   ]
  },
  {
   "cell_type": "code",
   "execution_count": 41,
   "id": "66a26770-7f5f-486e-a106-d64b7f4d3a6c",
   "metadata": {},
   "outputs": [],
   "source": [
    "from sklearn.model_selection import train_test_split\n",
    "from sklearn.linear_model import LinearRegression"
   ]
  },
  {
   "cell_type": "code",
   "execution_count": 42,
   "id": "dab68cc4-0d5b-49e7-a3d6-8c70cfac8a34",
   "metadata": {},
   "outputs": [],
   "source": [
    "import tkinter as tk"
   ]
  },
  {
   "cell_type": "code",
   "execution_count": 43,
   "id": "fe217dd4-2456-4076-881b-59fe0c91a304",
   "metadata": {},
   "outputs": [],
   "source": [
    "import warnings\n",
    "warnings.filterwarnings('ignore')"
   ]
  },
  {
   "cell_type": "code",
   "execution_count": 44,
   "id": "dfb1781a-29ca-44e7-9e1e-6f1ca7d12bfa",
   "metadata": {},
   "outputs": [],
   "source": [
    "m=pd.read_pickle('house_price_predictor.pkl')\n",
    "\n",
    "app=tk.Tk()\n",
    "app.geometry('450x400')\n",
    "app.title('house_price_predictor')\n",
    "\n",
    "income =tk.Variable(app)\n",
    "house_age =tk.Variable(app)\n",
    "rooms=tk.Variable(app)\n",
    "population=tk.Variable(app)\n",
    "m=pd.read_pickle('house_price_predictor.pkl')\n",
    "\n",
    "predicted_price=tk.Variable(app)\n",
    "predicted_price.set('')\n",
    "\n",
    "def houseprice():\n",
    "    inc=eval(income.get())\n",
    "    age=eval(house_age.get())\n",
    "    room=eval(rooms.get())\n",
    "    pop=eval(population.get())         \n",
    "    query=pd.DataFrame({'income':[inc],'house_age':[age],'room':[room],'population':[pop]})\n",
    "    predicted_price.set(round(m.predict(query)[0],2)) \n",
    "    \n",
    "\n",
    "entry_income=tk.Entry(app,textvariable = income,width=25)\n",
    "entry_income.place(x=230,y=60,height=20)\n",
    "label1=tk.Label(app,text='Income',bg='orange',fg='white',font='bold').place(x=5,y=50)\n",
    "\n",
    "entry_age=tk.Entry(app,textvariable=house_age)\n",
    "entry_age.place(x=230,y=100,height=20)\n",
    "label2=tk.Label(app,text='House_Age',bg='blue',fg='white',font='bold').place(x=5,y=100)\n",
    "\n",
    "entry_room=tk.Entry(app,textvariable=rooms)\n",
    "entry_room.place(x=230,y=140,height=20)\n",
    "label3=tk.Label(app,text='Rooms',bg='red',fg='white',font='bold').place(x=5,y=150)\n",
    "\n",
    "entry_pop=tk.Entry(app,textvariable=population)\n",
    "entry_pop.place(x=230,y=180,height=20)\n",
    "label4=tk.Label(app,text='Population',bg='green',fg='white',font='bold').place(x=5,y=200)\n",
    "\n",
    "button=tk.Button(app,text='Best price of house ',command=houseprice,bg='violet',fg='white',font='bold').place(x=200,y=250,height=40)\n",
    "\n",
    "label5=tk.Label(app,textvariable=predicted_price,text='price_of_house').place(x=50,y=300)\n",
    "\n",
    "\n",
    "   \n",
    "    \n",
    "app.mainloop()"
   ]
  },
  {
   "cell_type": "code",
   "execution_count": null,
   "id": "fb2661e9-de53-455d-a14c-2103f11cac80",
   "metadata": {},
   "outputs": [],
   "source": []
  }
 ],
 "metadata": {
  "kernelspec": {
   "display_name": "Python 3",
   "language": "python",
   "name": "python3"
  },
  "language_info": {
   "codemirror_mode": {
    "name": "ipython",
    "version": 3
   },
   "file_extension": ".py",
   "mimetype": "text/x-python",
   "name": "python",
   "nbconvert_exporter": "python",
   "pygments_lexer": "ipython3",
   "version": "3.8.8"
  }
 },
 "nbformat": 4,
 "nbformat_minor": 5
}
